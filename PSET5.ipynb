{
  "nbformat": 4,
  "nbformat_minor": 0,
  "metadata": {
    "colab": {
      "name": "PSET5.ipynb",
      "version": "0.3.2",
      "provenance": [],
      "include_colab_link": true
    },
    "kernelspec": {
      "name": "python3",
      "display_name": "Python 3"
    }
  },
  "cells": [
    {
      "cell_type": "markdown",
      "metadata": {
        "id": "view-in-github",
        "colab_type": "text"
      },
      "source": [
        "<a href=\"https://colab.research.google.com/github/qwerty156/Singapore-M-A-Thesis/blob/master/PSET5.ipynb\" target=\"_parent\"><img src=\"https://colab.research.google.com/assets/colab-badge.svg\" alt=\"Open In Colab\"/></a>"
      ]
    },
    {
      "metadata": {
        "id": "2-eKHVGcI12r",
        "colab_type": "code",
        "outputId": "0fc09678-97c1-4f7c-903c-7d9d0c10e904",
        "colab": {
          "base_uri": "https://localhost:8080/",
          "height": 287
        }
      },
      "cell_type": "code",
      "source": [
        "import numpy as np\n",
        "import pandas as pd\n",
        "\n",
        "R = np.array([[1,0], [0,0], [0,0], [1,1]])\n",
        "print(R[3,0]) #row, columns\n",
        "\n",
        "x = np.zeros((2, 50))\n",
        "p = np.zeros((4, 50))\n",
        "\n",
        "\n",
        "q = np.zeros((2, 50))\n",
        "y = np.zeros((4, 50))\n",
        "\n",
        "\n",
        "#set initial prices to zero\n",
        "\n",
        "p[0][0] = 1\n",
        "p[1][0] = 1\n",
        "p[2][0] = 1\n",
        "p[3][0] = 1\n",
        "\n",
        "\n",
        "for i in range(1,50):\n",
        "  q[0][i] = p[0][i-1] + p[3][i-1]\n",
        "  q[1][i] = p[3][i-1]\n",
        "  \n",
        "  \n",
        "  x[0][i] = 1/q[0][i]\n",
        "  x[1][i] = 1/q[1][i]\n",
        "  \n",
        "  \n",
        "  y[0][i] = x[0][i]\n",
        "  y[3][i] = x[0][i] + x[1][i]\n",
        "  \n",
        "  \n",
        "  p[0][i] = max(0,(p[0][i-1] + y[0][i] - 1) )\n",
        "  p[1][i] = max(0,(p[1][i-1] + y[1][i] - 1) )\n",
        "  p[2][i] = max(0,(p[2][i-1] + y[2][i] - 1) )\n",
        "  p[3][i] = max(0,(p[3][i-1] + y[3][i] - 1) )\n",
        "  \n",
        "  \n",
        "import matplotlib.pyplot as plt\n",
        "plt.plot(x[0])\n",
        "plt.plot(x[1])\n",
        "\n",
        "plt.ylabel('Source Rate')\n",
        "plt.ylabel('Iteration')\n",
        "\n",
        "plt.show()  \n",
        "  \n",
        "  "
      ],
      "execution_count": 0,
      "outputs": [
        {
          "output_type": "stream",
          "text": [
            "1\n"
          ],
          "name": "stdout"
        },
        {
          "output_type": "display_data",
          "data": {
            "image/png": "[encoded data removed]",
            "text/plain": [
              "<Figure size 432x288 with 1 Axes>"
            ]
          },
          "metadata": {
            "tags": []
          }
        }
      ]
    },
    {
      "metadata": {
        "id": "Q7ybYgkAM_Bg",
        "colab_type": "code",
        "outputId": "c91a2843-5a49-4761-b242-151ce3585ed6",
        "colab": {
          "base_uri": "https://localhost:8080/",
          "height": 269
        }
      },
      "cell_type": "code",
      "source": [
        "x = np.zeros((2, 50))\n",
        "p = np.zeros((4, 50))\n",
        "\n",
        "\n",
        "q = np.zeros((2, 50))\n",
        "y = np.zeros((4, 50))\n",
        "\n",
        "\n",
        "#set initial prices to zero\n",
        "\n",
        "p[0][0] = 1\n",
        "p[1][0] = 1\n",
        "p[2][0] = 1\n",
        "p[3][0] = 1\n",
        "\n",
        "beta = 0.05 \n",
        "\n",
        "for i in range(1,50):\n",
        "  q[0][i] = p[0][i-1] + p[3][i-1]\n",
        "  q[1][i] = p[3][i-1]\n",
        "  \n",
        "  \n",
        "  x[0][i] = 1/q[0][i]\n",
        "  x[1][i] = 1/q[1][i]\n",
        "  \n",
        "  \n",
        "  y[0][i] = x[0][i]\n",
        "  y[3][i] = x[0][i] + x[1][i]\n",
        "  \n",
        "  \n",
        "  p[0][i] = max(0,(p[0][i-1] + beta*(y[0][i] - 1)) )\n",
        "  p[1][i] = max(0,(p[1][i-1] + beta*(y[1][i] - 1)) )\n",
        "  p[2][i] = max(0,(p[2][i-1] + beta*(y[2][i] - 1)) )\n",
        "  p[3][i] = max(0,(p[3][i-1] + beta*(y[3][i] - 1)) )\n",
        "\n",
        "  \n",
        "  \n",
        "import matplotlib.pyplot as plt\n",
        "plt.plot(x[0])\n",
        "plt.plot(x[1])\n",
        "\n",
        "plt.ylabel('Source Rate')\n",
        "plt.ylabel('Iteration')\n",
        "\n",
        "plt.show()  \n",
        "  "
      ],
      "execution_count": 0,
      "outputs": [
        {
          "output_type": "display_data",
          "data": {
            "image/png": "[encoded data removed]",
            "text/plain": [
              "<Figure size 432x288 with 1 Axes>"
            ]
          },
          "metadata": {
            "tags": []
          }
        }
      ]
    },
    {
      "metadata": {
        "id": "8KkojW9NNOmo",
        "colab_type": "code",
        "outputId": "3163c03b-3576-409f-df2a-b13b7d73a513",
        "colab": {
          "base_uri": "https://localhost:8080/",
          "height": 269
        }
      },
      "cell_type": "code",
      "source": [
        "x = np.zeros((2, 50))\n",
        "p = np.zeros((4, 50))\n",
        "\n",
        "\n",
        "q = np.zeros((2, 50))\n",
        "y = np.zeros((4, 50))\n",
        "\n",
        "\n",
        "#set initial prices to zero\n",
        "\n",
        "p[0][0] = 1\n",
        "p[1][0] = 1\n",
        "p[2][0] = 1\n",
        "p[3][0] = 1\n",
        "\n",
        "beta = 2\n",
        "\n",
        "for i in range(1,50):\n",
        "  q[0][i] = p[0][i-1] + p[3][i-1]\n",
        "  q[1][i] = p[3][i-1]\n",
        "  \n",
        "  \n",
        "  x[0][i] = 1/q[0][i]\n",
        "  x[1][i] = 1/q[1][i]\n",
        "  \n",
        "  \n",
        "  y[0][i] = x[0][i]\n",
        "  y[3][i] = x[0][i] + x[1][i]\n",
        "  \n",
        "  \n",
        "  p[0][i] = max(0,(p[0][i-1] + beta*(y[0][i] - 1)) )\n",
        "  p[1][i] = max(0,(p[1][i-1] + beta*(y[1][i] - 1)) )\n",
        "  p[2][i] = max(0,(p[2][i-1] + beta*(y[2][i] - 1)) )\n",
        "  p[3][i] = max(0,(p[3][i-1] + beta*(y[3][i] - 1)) )\n",
        "\n",
        "  \n",
        "  \n",
        "import matplotlib.pyplot as plt\n",
        "plt.plot(x[0])\n",
        "plt.plot(x[1])\n",
        "\n",
        "plt.ylabel('Source Rate')\n",
        "plt.ylabel('Iteration')\n",
        "\n",
        "plt.show()  \n",
        "  "
      ],
      "execution_count": 0,
      "outputs": [
        {
          "output_type": "display_data",
          "data": {
            "image/png": "[encoded data removed]",
            "text/plain": [
              "<Figure size 432x288 with 1 Axes>"
            ]
          },
          "metadata": {
            "tags": []
          }
        }
      ]
    },
    {
      "metadata": {
        "id": "uP8XnrIxNuDF",
        "colab_type": "code",
        "outputId": "76863fab-c787-42bf-94fc-cea30170e775",
        "colab": {
          "base_uri": "https://localhost:8080/",
          "height": 304
        }
      },
      "cell_type": "code",
      "source": [
        "cwnd = np.zeros(11);\n",
        "cwnd[0] = 4\n",
        "beta = 3\n",
        "\n",
        "\n",
        "for i in range(0, 10):\n",
        "  \n",
        "  thresh = cwnd[i]/1 - cwnd[i]/min(i, 4) \n",
        "  \n",
        "  if(thresh > beta):\n",
        "    cwnd[i+1] = cwnd[i] - 1\n",
        "  elif(thresh < beta):\n",
        "    cwnd[i+1] = cwnd[i] + 1\n",
        "  else:\n",
        "    cwnd[i+1] = cwnd[i]\n",
        "\n",
        "    \n",
        "import matplotlib.pyplot as plt\n",
        "plt.plot(cwnd)\n",
        "\n",
        "plt.ylabel('Iteration')\n",
        "\n",
        "plt.show()  \n",
        "  "
      ],
      "execution_count": 0,
      "outputs": [
        {
          "output_type": "stream",
          "text": [
            "/usr/local/lib/python3.6/dist-packages/ipykernel_launcher.py:8: RuntimeWarning: divide by zero encountered in double_scalars\n",
            "  \n"
          ],
          "name": "stderr"
        },
        {
          "output_type": "display_data",
          "data": {
            "image/png": "[encoded data removed]",
            "text/plain": [
              "<Figure size 432x288 with 1 Axes>"
            ]
          },
          "metadata": {
            "tags": []
          }
        }
      ]
    }
  ]
}